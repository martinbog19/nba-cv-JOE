{
 "cells": [
  {
   "cell_type": "code",
   "execution_count": 1,
   "metadata": {},
   "outputs": [],
   "source": [
    "import pandas as pd\n",
    "import requests\n",
    "from bs4 import BeautifulSoup"
   ]
  },
  {
   "cell_type": "code",
   "execution_count": 2,
   "metadata": {},
   "outputs": [],
   "source": [
    "url = 'https://www.basketball-reference.com/boxscores/201606190GSW.html'\n",
    "page = requests.get(url)"
   ]
  },
  {
   "cell_type": "code",
   "execution_count": 3,
   "metadata": {},
   "outputs": [],
   "source": [
    "soup = BeautifulSoup(page.content)"
   ]
  },
  {
   "cell_type": "code",
   "execution_count": 4,
   "metadata": {},
   "outputs": [],
   "source": [
    "tables = [x for x in soup.find_all('table') if x.get('id') in ['box-CLE-game-basic', 'box-GSW-game-basic']]"
   ]
  },
  {
   "cell_type": "code",
   "execution_count": 40,
   "metadata": {},
   "outputs": [],
   "source": [
    "def mp_str_to_float(x) :\n",
    "  minutes, seconds = map(int, x.split(':'))\n",
    "  return minutes + seconds / 60\n",
    "\n",
    "dfs = []\n",
    "for table in tables :\n",
    "    \n",
    "  tm = table.get('id').split('-')[1]\n",
    "  df = pd.read_html(str(table))[0][:-1].drop(5)\n",
    "  df.columns = df.columns.droplevel(0)\n",
    "  df['href'] = [x['href'].split('/')[-1].split('.')[0] for x in table.find_all('a', href = True)]\n",
    "  df['FG'] = pd.to_numeric(df['FG'], errors = 'coerce')\n",
    "  df = df[df['FG'].notna()]\n",
    "  df['MP'] = df['MP'].apply(mp_str_to_float)\n",
    "  df = df[['Starters', 'href', 'MP']].rename(columns = {'Starters': 'Player'})\n",
    "  df['Tm'] = tm\n",
    "  dfs.append(df)\n",
    "\n",
    "players = pd.concat(dfs).reset_index(drop = True)"
   ]
  },
  {
   "cell_type": "code",
   "execution_count": 46,
   "metadata": {},
   "outputs": [],
   "source": [
    "tm_col  = {'CLE': 'black', 'GSW': 'white'}\n",
    "tm_name = {'CLE': 'cavaliers', 'GSW': 'warriors'}"
   ]
  },
  {
   "cell_type": "code",
   "execution_count": 48,
   "metadata": {},
   "outputs": [
    {
     "name": "stdout",
     "output_type": "stream",
     "text": [
      "LeBron James : LeBron James cavaliers 2016 black\n",
      "Kyrie Irving : Kyrie Irving cavaliers 2016 black\n",
      "J.R. Smith : J.R. Smith cavaliers 2016 black\n",
      "Tristan Thompson : Tristan Thompson cavaliers 2016 black\n",
      "Kevin Love : Kevin Love cavaliers 2016 black\n",
      "Richard Jefferson : Richard Jefferson cavaliers 2016 black\n",
      "Iman Shumpert : Iman Shumpert cavaliers 2016 black\n",
      "Mo Williams : Mo Williams cavaliers 2016 black\n",
      "Draymond Green : Draymond Green warriors 2016 white\n",
      "Klay Thompson : Klay Thompson warriors 2016 white\n",
      "Stephen Curry : Stephen Curry warriors 2016 white\n",
      "Harrison Barnes : Harrison Barnes warriors 2016 white\n",
      "Festus Ezeli : Festus Ezeli warriors 2016 white\n",
      "Andre Iguodala : Andre Iguodala warriors 2016 white\n",
      "Shaun Livingston : Shaun Livingston warriors 2016 white\n",
      "Anderson Varejão : Anderson Varejão warriors 2016 white\n",
      "Marreese Speights : Marreese Speights warriors 2016 white\n",
      "Leandro Barbosa : Leandro Barbosa warriors 2016 white\n"
     ]
    }
   ],
   "source": [
    "for _, player in players.iterrows() :\n",
    "    prompt = player['Player'] + ' ' + tm_name.get(player['Tm']) + ' 2016 ' + tm_col.get(player['Tm'])\n",
    "\n",
    "    print(player['Player'], ':', prompt)"
   ]
  },
  {
   "cell_type": "code",
   "execution_count": 43,
   "metadata": {},
   "outputs": [
    {
     "data": {
      "text/plain": [
       "'Leandro Barbosa'"
      ]
     },
     "execution_count": 43,
     "metadata": {},
     "output_type": "execute_result"
    }
   ],
   "source": [
    "player['Player']"
   ]
  },
  {
   "cell_type": "code",
   "execution_count": null,
   "metadata": {},
   "outputs": [],
   "source": []
  }
 ],
 "metadata": {
  "kernelspec": {
   "display_name": "Python 3.10.10 ('nbaenv')",
   "language": "python",
   "name": "python3"
  },
  "language_info": {
   "codemirror_mode": {
    "name": "ipython",
    "version": 3
   },
   "file_extension": ".py",
   "mimetype": "text/x-python",
   "name": "python",
   "nbconvert_exporter": "python",
   "pygments_lexer": "ipython3",
   "version": "3.10.10"
  },
  "orig_nbformat": 4,
  "vscode": {
   "interpreter": {
    "hash": "8158d229fe7301e640acb43d488c0efce3cd8ada31ff414dc1808c070c07cefa"
   }
  }
 },
 "nbformat": 4,
 "nbformat_minor": 2
}
